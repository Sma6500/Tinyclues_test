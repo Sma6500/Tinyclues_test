{
 "cells": [
  {
   "cell_type": "markdown",
   "metadata": {},
   "source": [
    "# Project for TinyClues MLE Internship\n",
    "<br/> \n",
    "I quickly present in this notebook my proposal for the project \n",
    "<br/>\n",
    "<br/>\n",
    "Recommendations according to the type of movies :"
   ]
  },
  {
   "cell_type": "code",
   "execution_count": 1,
   "metadata": {},
   "outputs": [
    {
     "data": {
      "text/html": [
       "<div>\n",
       "<style scoped>\n",
       "    .dataframe tbody tr th:only-of-type {\n",
       "        vertical-align: middle;\n",
       "    }\n",
       "\n",
       "    .dataframe tbody tr th {\n",
       "        vertical-align: top;\n",
       "    }\n",
       "\n",
       "    .dataframe thead th {\n",
       "        text-align: right;\n",
       "    }\n",
       "</style>\n",
       "<table border=\"1\" class=\"dataframe\">\n",
       "  <thead>\n",
       "    <tr style=\"text-align: right;\">\n",
       "      <th></th>\n",
       "      <th>movie_id</th>\n",
       "      <th>title</th>\n",
       "      <th>similarity</th>\n",
       "    </tr>\n",
       "  </thead>\n",
       "  <tbody>\n",
       "    <tr>\n",
       "      <th>0</th>\n",
       "      <td>1178</td>\n",
       "      <td>Star Wars: Episode V - The Empire Strikes Back</td>\n",
       "      <td>3.0</td>\n",
       "    </tr>\n",
       "    <tr>\n",
       "      <th>1</th>\n",
       "      <td>1545</td>\n",
       "      <td>G.I. Jane</td>\n",
       "      <td>3.0</td>\n",
       "    </tr>\n",
       "    <tr>\n",
       "      <th>27</th>\n",
       "      <td>2072</td>\n",
       "      <td>American Tail, An</td>\n",
       "      <td>3.0</td>\n",
       "    </tr>\n",
       "    <tr>\n",
       "      <th>26</th>\n",
       "      <td>2033</td>\n",
       "      <td>Steamboat Willie</td>\n",
       "      <td>3.0</td>\n",
       "    </tr>\n",
       "    <tr>\n",
       "      <th>25</th>\n",
       "      <td>2012</td>\n",
       "      <td>Little Mermaid, The</td>\n",
       "      <td>3.0</td>\n",
       "    </tr>\n",
       "  </tbody>\n",
       "</table>\n",
       "</div>"
      ],
      "text/plain": [
       "    movie_id                                           title  similarity\n",
       "0       1178  Star Wars: Episode V - The Empire Strikes Back         3.0\n",
       "1       1545                                       G.I. Jane         3.0\n",
       "27      2072                               American Tail, An         3.0\n",
       "26      2033                                Steamboat Willie         3.0\n",
       "25      2012                             Little Mermaid, The         3.0"
      ]
     },
     "execution_count": 1,
     "metadata": {},
     "output_type": "execute_result"
    }
   ],
   "source": [
    "import sys\n",
    "sys.path.append(sys.path[0][:len(sys.path[0])-5])\n",
    "from similarity.similarity_cat import *\n",
    "import os\n",
    "\n",
    "path=r'path to data'\n",
    "path=r'C:/Users/luthe/Documents/AI/Tinyclues_test/Tinyclues_recommandation_algorithm/data'\n",
    "\n",
    "items_filename='movies.csv'\n",
    "ratings_filename='ratings.csv'\n",
    "users_filename='users.csv'\n",
    "\n",
    "items_path=os.path.join(path, items_filename)\n",
    "ratings_path=os.path.join(path, ratings_filename)\n",
    "users_path=os.path.join(path, users_filename)\n",
    "\n",
    "items=pd.read_csv(items_path)\n",
    "ratings=pd.read_csv(ratings_path)\n",
    "users=pd.read_csv(users_path)\n",
    "\n",
    "item_keys='movie_id'\n",
    "\n",
    "test=Recommendation_cat(items, users, ratings, categories=get_item_cat(), item_keys=item_keys)\n",
    "user_id=np.random.randint(0,len(users))\n",
    "test.get_recommendations(user_id)"
   ]
  },
  {
   "cell_type": "markdown",
   "metadata": {},
   "source": [
    "Even if we have not a lot of data about users let's make a clustering on the users' profiles in order to give recommendations based on similar profiles and similar type of films."
   ]
  },
  {
   "cell_type": "code",
   "execution_count": 3,
   "metadata": {},
   "outputs": [
    {
     "data": {
      "text/html": [
       "<div>\n",
       "<style scoped>\n",
       "    .dataframe tbody tr th:only-of-type {\n",
       "        vertical-align: middle;\n",
       "    }\n",
       "\n",
       "    .dataframe tbody tr th {\n",
       "        vertical-align: top;\n",
       "    }\n",
       "\n",
       "    .dataframe thead th {\n",
       "        text-align: right;\n",
       "    }\n",
       "</style>\n",
       "<table border=\"1\" class=\"dataframe\">\n",
       "  <thead>\n",
       "    <tr style=\"text-align: right;\">\n",
       "      <th></th>\n",
       "      <th>movie_id</th>\n",
       "      <th>title</th>\n",
       "      <th>similarity</th>\n",
       "    </tr>\n",
       "  </thead>\n",
       "  <tbody>\n",
       "    <tr>\n",
       "      <th>20</th>\n",
       "      <td>1998</td>\n",
       "      <td>Doctor Zhivago</td>\n",
       "      <td>4.0</td>\n",
       "    </tr>\n",
       "    <tr>\n",
       "      <th>14</th>\n",
       "      <td>1204</td>\n",
       "      <td>Full Metal Jacket</td>\n",
       "      <td>3.0</td>\n",
       "    </tr>\n",
       "    <tr>\n",
       "      <th>15</th>\n",
       "      <td>2903</td>\n",
       "      <td>Red Sorghum (Hong Gao Liang)</td>\n",
       "      <td>3.0</td>\n",
       "    </tr>\n",
       "    <tr>\n",
       "      <th>27</th>\n",
       "      <td>964</td>\n",
       "      <td>Farewell to Arms, A</td>\n",
       "      <td>3.0</td>\n",
       "    </tr>\n",
       "    <tr>\n",
       "      <th>26</th>\n",
       "      <td>149</td>\n",
       "      <td>Rob Roy</td>\n",
       "      <td>3.0</td>\n",
       "    </tr>\n",
       "  </tbody>\n",
       "</table>\n",
       "</div>"
      ],
      "text/plain": [
       "    movie_id                         title  similarity\n",
       "20      1998                Doctor Zhivago         4.0\n",
       "14      1204             Full Metal Jacket         3.0\n",
       "15      2903  Red Sorghum (Hong Gao Liang)         3.0\n",
       "27       964           Farewell to Arms, A         3.0\n",
       "26       149                       Rob Roy         3.0"
      ]
     },
     "execution_count": 3,
     "metadata": {},
     "output_type": "execute_result"
    }
   ],
   "source": [
    "from similarity.similarity_profile import *\n",
    "\n",
    "test=Recommendation_profile(items, users, ratings, categories=get_item_cat(), item_keys=item_keys, user_keys='user_id')\n",
    "user_id=np.random.randint(0,len(users))\n",
    "test.get_recommendations(user_id)"
   ]
  },
  {
   "cell_type": "markdown",
   "metadata": {},
   "source": [
    "Obviously for a deeper study, I would compare performances between methods (I would need to define metrics to do that), test performances of the code, and test o"
   ]
  }
 ],
 "metadata": {
  "kernelspec": {
   "display_name": "Python 3",
   "language": "python",
   "name": "python3"
  },
  "language_info": {
   "codemirror_mode": {
    "name": "ipython",
    "version": 3
   },
   "file_extension": ".py",
   "mimetype": "text/x-python",
   "name": "python",
   "nbconvert_exporter": "python",
   "pygments_lexer": "ipython3",
   "version": "3.7.6"
  }
 },
 "nbformat": 4,
 "nbformat_minor": 4
}
